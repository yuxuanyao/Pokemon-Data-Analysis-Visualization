{
 "cells": [
  {
   "cell_type": "markdown",
   "metadata": {
    "_cell_guid": "bd1ffbd7-c1f6-0925-ffc5-fee8c97d5b4e",
    "_uuid": "e34c2db2aa2bb003b4948d3d8759373edb3a39d0"
   },
   "source": [
    "# Pokemon Data Visualization and Analysis \n",
    "\n",
    "This project uses seaborn, pandas, and matplotlib to analyze \"The Complete Pokemon Dataset\" on more than 800 Pokemon up to the current (7th) generation. The link to the dataset can be found here: https://www.kaggle.com/rounakbanik/pokemon\n",
    "\n",
    "\n",
    "\n",
    "\n",
    "\n"
   ]
  },
  {
   "cell_type": "markdown",
   "metadata": {
    "_cell_guid": "b836a0f8-f833-27b6-cc2d-f9c5e0e5d7e2",
    "_uuid": "5cb35e1535448b16becbc19f93cef04c29e8783e"
   },
   "source": [
    "***"
   ]
  },
  {
   "cell_type": "markdown",
   "metadata": {},
   "source": [
    "### Import statements"
   ]
  },
  {
   "cell_type": "code",
   "execution_count": 2,
   "metadata": {
    "_cell_guid": "c4b6100a-de4f-c692-338e-1ada42ef014a",
    "_uuid": "d2781f4c809e26bcde60ac6d16374c3952a8d2e4"
   },
   "outputs": [],
   "source": [
    "import pandas as pd\n",
    "import seaborn as sns\n",
    "import matplotlib.pyplot as plt"
   ]
  },
  {
   "cell_type": "markdown",
   "metadata": {
    "_cell_guid": "dab853f1-e7bf-6e8f-20aa-941eee604ab7",
    "_uuid": "e399f51ffdb8e8ad6e32db076d6561d64eacb973"
   },
   "source": [
    "----------"
   ]
  },
  {
   "cell_type": "markdown",
   "metadata": {
    "_cell_guid": "e77a08d6-d4e1-bcdb-53ae-6cf7d8e6192b",
    "_uuid": "81436774742ea36d170a6fcebe457229cdd97b2f"
   },
   "source": [
    "### Read Data with Pandas"
   ]
  },
  {
   "cell_type": "code",
   "execution_count": 3,
   "metadata": {
    "_cell_guid": "9234dcce-62d9-7344-7541-cf882c3de233",
    "_uuid": "f5425a01fabcd3daa89245c11f74684e38901461"
   },
   "outputs": [],
   "source": [
    "pkmndf = pd.read_csv('Pokemon.csv')"
   ]
  },
  {
   "cell_type": "markdown",
   "metadata": {
    "_cell_guid": "84ac0503-7481-850d-e506-cadd9e942c5b",
    "_uuid": "de237f01be6decf75ef5126b392a847ed12ca58c"
   },
   "source": [
    "### Viewing the head( ) of the Pokemon data\n"
   ]
  },
  {
   "cell_type": "code",
   "execution_count": 4,
   "metadata": {
    "_cell_guid": "b8c15db5-9758-9830-d3b4-b6946d8655ab",
    "_uuid": "6d8dc5f73b9530833afa9ae16c9c0a5260338ba7"
   },
   "outputs": [
    {
     "data": {
      "text/html": [
       "<div>\n",
       "<style scoped>\n",
       "    .dataframe tbody tr th:only-of-type {\n",
       "        vertical-align: middle;\n",
       "    }\n",
       "\n",
       "    .dataframe tbody tr th {\n",
       "        vertical-align: top;\n",
       "    }\n",
       "\n",
       "    .dataframe thead th {\n",
       "        text-align: right;\n",
       "    }\n",
       "</style>\n",
       "<table border=\"1\" class=\"dataframe\">\n",
       "  <thead>\n",
       "    <tr style=\"text-align: right;\">\n",
       "      <th></th>\n",
       "      <th>abilities</th>\n",
       "      <th>against_bug</th>\n",
       "      <th>against_dark</th>\n",
       "      <th>against_dragon</th>\n",
       "      <th>against_electric</th>\n",
       "      <th>against_fairy</th>\n",
       "      <th>against_fight</th>\n",
       "      <th>against_fire</th>\n",
       "      <th>against_flying</th>\n",
       "      <th>against_ghost</th>\n",
       "      <th>...</th>\n",
       "      <th>percentage_male</th>\n",
       "      <th>pokedex_number</th>\n",
       "      <th>sp_attack</th>\n",
       "      <th>sp_defense</th>\n",
       "      <th>speed</th>\n",
       "      <th>type1</th>\n",
       "      <th>type2</th>\n",
       "      <th>weight_kg</th>\n",
       "      <th>generation</th>\n",
       "      <th>is_legendary</th>\n",
       "    </tr>\n",
       "  </thead>\n",
       "  <tbody>\n",
       "    <tr>\n",
       "      <th>0</th>\n",
       "      <td>['Overgrow', 'Chlorophyll']</td>\n",
       "      <td>1.0</td>\n",
       "      <td>1.0</td>\n",
       "      <td>1.0</td>\n",
       "      <td>0.5</td>\n",
       "      <td>0.5</td>\n",
       "      <td>0.5</td>\n",
       "      <td>2.0</td>\n",
       "      <td>2.0</td>\n",
       "      <td>1.0</td>\n",
       "      <td>...</td>\n",
       "      <td>88.1</td>\n",
       "      <td>1</td>\n",
       "      <td>65</td>\n",
       "      <td>65</td>\n",
       "      <td>45</td>\n",
       "      <td>grass</td>\n",
       "      <td>poison</td>\n",
       "      <td>6.9</td>\n",
       "      <td>1</td>\n",
       "      <td>0</td>\n",
       "    </tr>\n",
       "    <tr>\n",
       "      <th>1</th>\n",
       "      <td>['Overgrow', 'Chlorophyll']</td>\n",
       "      <td>1.0</td>\n",
       "      <td>1.0</td>\n",
       "      <td>1.0</td>\n",
       "      <td>0.5</td>\n",
       "      <td>0.5</td>\n",
       "      <td>0.5</td>\n",
       "      <td>2.0</td>\n",
       "      <td>2.0</td>\n",
       "      <td>1.0</td>\n",
       "      <td>...</td>\n",
       "      <td>88.1</td>\n",
       "      <td>2</td>\n",
       "      <td>80</td>\n",
       "      <td>80</td>\n",
       "      <td>60</td>\n",
       "      <td>grass</td>\n",
       "      <td>poison</td>\n",
       "      <td>13.0</td>\n",
       "      <td>1</td>\n",
       "      <td>0</td>\n",
       "    </tr>\n",
       "    <tr>\n",
       "      <th>2</th>\n",
       "      <td>['Overgrow', 'Chlorophyll']</td>\n",
       "      <td>1.0</td>\n",
       "      <td>1.0</td>\n",
       "      <td>1.0</td>\n",
       "      <td>0.5</td>\n",
       "      <td>0.5</td>\n",
       "      <td>0.5</td>\n",
       "      <td>2.0</td>\n",
       "      <td>2.0</td>\n",
       "      <td>1.0</td>\n",
       "      <td>...</td>\n",
       "      <td>88.1</td>\n",
       "      <td>3</td>\n",
       "      <td>122</td>\n",
       "      <td>120</td>\n",
       "      <td>80</td>\n",
       "      <td>grass</td>\n",
       "      <td>poison</td>\n",
       "      <td>100.0</td>\n",
       "      <td>1</td>\n",
       "      <td>0</td>\n",
       "    </tr>\n",
       "    <tr>\n",
       "      <th>3</th>\n",
       "      <td>['Blaze', 'Solar Power']</td>\n",
       "      <td>0.5</td>\n",
       "      <td>1.0</td>\n",
       "      <td>1.0</td>\n",
       "      <td>1.0</td>\n",
       "      <td>0.5</td>\n",
       "      <td>1.0</td>\n",
       "      <td>0.5</td>\n",
       "      <td>1.0</td>\n",
       "      <td>1.0</td>\n",
       "      <td>...</td>\n",
       "      <td>88.1</td>\n",
       "      <td>4</td>\n",
       "      <td>60</td>\n",
       "      <td>50</td>\n",
       "      <td>65</td>\n",
       "      <td>fire</td>\n",
       "      <td>NaN</td>\n",
       "      <td>8.5</td>\n",
       "      <td>1</td>\n",
       "      <td>0</td>\n",
       "    </tr>\n",
       "    <tr>\n",
       "      <th>4</th>\n",
       "      <td>['Blaze', 'Solar Power']</td>\n",
       "      <td>0.5</td>\n",
       "      <td>1.0</td>\n",
       "      <td>1.0</td>\n",
       "      <td>1.0</td>\n",
       "      <td>0.5</td>\n",
       "      <td>1.0</td>\n",
       "      <td>0.5</td>\n",
       "      <td>1.0</td>\n",
       "      <td>1.0</td>\n",
       "      <td>...</td>\n",
       "      <td>88.1</td>\n",
       "      <td>5</td>\n",
       "      <td>80</td>\n",
       "      <td>65</td>\n",
       "      <td>80</td>\n",
       "      <td>fire</td>\n",
       "      <td>NaN</td>\n",
       "      <td>19.0</td>\n",
       "      <td>1</td>\n",
       "      <td>0</td>\n",
       "    </tr>\n",
       "  </tbody>\n",
       "</table>\n",
       "<p>5 rows × 41 columns</p>\n",
       "</div>"
      ],
      "text/plain": [
       "                     abilities  against_bug  against_dark  against_dragon  \\\n",
       "0  ['Overgrow', 'Chlorophyll']          1.0           1.0             1.0   \n",
       "1  ['Overgrow', 'Chlorophyll']          1.0           1.0             1.0   \n",
       "2  ['Overgrow', 'Chlorophyll']          1.0           1.0             1.0   \n",
       "3     ['Blaze', 'Solar Power']          0.5           1.0             1.0   \n",
       "4     ['Blaze', 'Solar Power']          0.5           1.0             1.0   \n",
       "\n",
       "   against_electric  against_fairy  against_fight  against_fire  \\\n",
       "0               0.5            0.5            0.5           2.0   \n",
       "1               0.5            0.5            0.5           2.0   \n",
       "2               0.5            0.5            0.5           2.0   \n",
       "3               1.0            0.5            1.0           0.5   \n",
       "4               1.0            0.5            1.0           0.5   \n",
       "\n",
       "   against_flying  against_ghost      ...       percentage_male  \\\n",
       "0             2.0            1.0      ...                  88.1   \n",
       "1             2.0            1.0      ...                  88.1   \n",
       "2             2.0            1.0      ...                  88.1   \n",
       "3             1.0            1.0      ...                  88.1   \n",
       "4             1.0            1.0      ...                  88.1   \n",
       "\n",
       "   pokedex_number  sp_attack  sp_defense  speed  type1   type2  weight_kg  \\\n",
       "0               1         65          65     45  grass  poison        6.9   \n",
       "1               2         80          80     60  grass  poison       13.0   \n",
       "2               3        122         120     80  grass  poison      100.0   \n",
       "3               4         60          50     65   fire     NaN        8.5   \n",
       "4               5         80          65     80   fire     NaN       19.0   \n",
       "\n",
       "   generation  is_legendary  \n",
       "0           1             0  \n",
       "1           1             0  \n",
       "2           1             0  \n",
       "3           1             0  \n",
       "4           1             0  \n",
       "\n",
       "[5 rows x 41 columns]"
      ]
     },
     "execution_count": 4,
     "metadata": {},
     "output_type": "execute_result"
    }
   ],
   "source": [
    "pkmndf.head()"
   ]
  },
  {
   "cell_type": "markdown",
   "metadata": {
    "_cell_guid": "884419e0-0107-bd55-c1b7-00385c90f6eb",
    "_uuid": "bf172b818ecbe21e52717233cb478c31247b4503"
   },
   "source": [
    "### Viewing the Columns"
   ]
  },
  {
   "cell_type": "code",
   "execution_count": 5,
   "metadata": {
    "_cell_guid": "ed7da440-4443-acfa-974b-7d0e94842840",
    "_uuid": "8a3a6f589063943be4a332d71218fe2a0edae65b"
   },
   "outputs": [
    {
     "data": {
      "text/plain": [
       "Index(['abilities', 'against_bug', 'against_dark', 'against_dragon',\n",
       "       'against_electric', 'against_fairy', 'against_fight', 'against_fire',\n",
       "       'against_flying', 'against_ghost', 'against_grass', 'against_ground',\n",
       "       'against_ice', 'against_normal', 'against_poison', 'against_psychic',\n",
       "       'against_rock', 'against_steel', 'against_water', 'attack',\n",
       "       'base_egg_steps', 'base_happiness', 'base_total', 'capture_rate',\n",
       "       'classfication', 'defense', 'experience_growth', 'height_m', 'hp',\n",
       "       'japanese_name', 'name', 'percentage_male', 'pokedex_number',\n",
       "       'sp_attack', 'sp_defense', 'speed', 'type1', 'type2', 'weight_kg',\n",
       "       'generation', 'is_legendary'],\n",
       "      dtype='object')"
      ]
     },
     "execution_count": 5,
     "metadata": {},
     "output_type": "execute_result"
    }
   ],
   "source": [
    "pkmndf.columns"
   ]
  },
  {
   "cell_type": "markdown",
   "metadata": {},
   "source": [
    "***"
   ]
  },
  {
   "cell_type": "markdown",
   "metadata": {
    "_cell_guid": "831272ec-2117-b94f-beec-1c65db3c22e1",
    "_uuid": "de9572560a3670699e1658e496b6e20a19c7a275",
    "collapsed": true
   },
   "source": [
    "The ability column is not very helpful because it only contains a few abilities for each Pokemon, when the Pokemon could actually have quite a number of abilities aquired. Because of this, I am going to drop this column."
   ]
  },
  {
   "cell_type": "markdown",
   "metadata": {
    "_cell_guid": "eae383af-c58d-0b7b-a66c-bcc3efedc7d9",
    "_uuid": "414ec86df032788d0b0e8ed4c881bd69cd7ca49a"
   },
   "source": [
    "----------"
   ]
  },
  {
   "cell_type": "code",
   "execution_count": 6,
   "metadata": {},
   "outputs": [],
   "source": [
    "# Drop\n",
    "pkmndf.drop('abilities', axis = 1, inplace = True)\n"
   ]
  },
  {
   "cell_type": "markdown",
   "metadata": {},
   "source": [
    "***"
   ]
  },
  {
   "cell_type": "markdown",
   "metadata": {
    "_cell_guid": "57762535-8ec4-a4ee-d112-c2af2bd28de3",
    "_uuid": "f1fe237952507b3acfb31ae9bf2b1f7fb57ac426"
   },
   "source": [
    "# Stats"
   ]
  },
  {
   "cell_type": "markdown",
   "metadata": {
    "_cell_guid": "3d335caf-994d-ad13-fb17-1e770f388cfe",
    "_uuid": "d62fc0a3bd7f8be0d7f3a010ef8ebdb5ae89649d"
   },
   "source": [
    "By making a scatterplot, we can clearly see the values of the stats of various Pokemon"
   ]
  },
  {
   "cell_type": "code",
   "execution_count": 7,
   "metadata": {
    "_cell_guid": "2b8ccc61-1459-b36d-114e-92a068f765d6",
    "_uuid": "7043616cce87bf37680cbac01ee6410f5f0c4ffc"
   },
   "outputs": [
    {
     "data": {
      "image/png": "[encoded data removed]",
      "text/plain": [
       "<Figure size 432x288 with 2 Axes>"
      ]
     },
     "metadata": {},
     "output_type": "display_data"
    }
   ],
   "source": [
    "# Figure settings\n",
    "fig, (ax1, ax2) = plt.subplots(ncols=2, sharey=True)\n",
    "\n",
    "# Plot Special Attack vs Attack\n",
    "sns.regplot(x=\"sp_attack\", y=\"attack\", data=pkmndf, fit_reg = False, scatter_kws={\"s\": 10}, ax=ax1);\n",
    "\n",
    "# Plot Special Attack vs Attack\n",
    "sns.regplot(x=\"sp_defense\", y=\"defense\", data=pkmndf, fit_reg = False, scatter_kws={\"s\": 10}, ax=ax2);"
   ]
  },
  {
   "cell_type": "markdown",
   "metadata": {},
   "source": [
    "***"
   ]
  },
  {
   "cell_type": "markdown",
   "metadata": {},
   "source": [
    "From the above plots we can see... Oh wow one Pokemon has really high defense stats. Let's find out which Pokemon does the best at level 1. Specifically, we can find that out by finding the highest attack, special attack, overall attack, and highest defense, special defense, and overall defense. "
   ]
  },
  {
   "cell_type": "markdown",
   "metadata": {},
   "source": [
    "### Max Base Attack and Defense Stats"
   ]
  },
  {
   "cell_type": "code",
   "execution_count": 8,
   "metadata": {},
   "outputs": [
    {
     "name": "stdout",
     "output_type": "stream",
     "text": [
      "Pokemon with Highest Base Attack is Heracross\n",
      "Pokemon with Highest Base Special Attack is Mewtwo\n",
      "Pokemon with Highest Base Defense is Steelix\n",
      "Pokemon with Highest Base Special Defense is Shuckle\n"
     ]
    }
   ],
   "source": [
    "# Max Attack\n",
    "maxatk = pkmndf.name[pkmndf['attack'].idxmax()]\n",
    "print(\"Pokemon with Highest Base Attack is {}\".format(maxatk))\n",
    "\n",
    "# Max Special Attack\n",
    "maxspatk = pkmndf.name[pkmndf['sp_attack'].idxmax()]\n",
    "print(\"Pokemon with Highest Base Special Attack is {}\".format(maxspatk))\n",
    "\n",
    "# Max Defense\n",
    "maxdef = pkmndf.name[pkmndf['defense'].idxmax()]\n",
    "print(\"Pokemon with Highest Base Defense is {}\".format(maxdef))\n",
    "\n",
    "# Max Special Defense\n",
    "maxspdef = pkmndf.name[pkmndf['sp_defense'].idxmax()]\n",
    "print(\"Pokemon with Highest Base Special Defense is {}\".format(maxspdef))"
   ]
  },
  {
   "cell_type": "markdown",
   "metadata": {},
   "source": [
    "### Max Overall Attack and Defense Stats\n",
    "\n",
    "In this analysis, we define Overall Attack as the combined value of attack and special attack, Overall Defense as the combined value of defense and special defense."
   ]
  },
  {
   "cell_type": "code",
   "execution_count": 9,
   "metadata": {},
   "outputs": [],
   "source": [
    "# Add the new column, summing attack and special attack\n",
    "pkmndf[\"overall_atk\"] = pkmndf[\"attack\"] + pkmndf[\"sp_attack\"]\n",
    "pkmndf[\"overall_def\"] = pkmndf[\"defense\"] + pkmndf[\"sp_defense\"]\n"
   ]
  },
  {
   "cell_type": "code",
   "execution_count": 10,
   "metadata": {},
   "outputs": [
    {
     "name": "stdout",
     "output_type": "stream",
     "text": [
      "Pokemon with Highest Overall Attack is Rayquaza\n",
      "Pokemon with Highest Overall Defense is Shuckle\n"
     ]
    }
   ],
   "source": [
    "# Find maximum overall attack and print name of the Pokemon\n",
    "maxAllAtk = 0\n",
    "maxAllAtkID = 0\n",
    "for i in range(0,800):\n",
    "    if pkmndf.overall_atk[i] > maxAllAtk :\n",
    "        maxAllAtk = pkmndf.overall_atk[i]\n",
    "        maxAllAtkID = i\n",
    "\n",
    "print(\"Pokemon with Highest Overall Attack is {}\".format(pkmndf.name[maxAllAtkID]))\n",
    "\n",
    "# Find maximum overall defense and print name of the Pokemon\n",
    "maxAllDef = 0\n",
    "maxAllDefID = 0\n",
    "for j in range(0,800):\n",
    "    if pkmndf.overall_def[j] > maxAllDef :\n",
    "        maxAllDef = pkmndf.overall_def[j]\n",
    "        maxAllDefID = j\n",
    "\n",
    "print(\"Pokemon with Highest Overall Defense is {}\".format(pkmndf.name[maxAllDefID]))"
   ]
  },
  {
   "cell_type": "markdown",
   "metadata": {},
   "source": [
    "### Fastest Pokemon \n",
    "Here, we want to find the Pokemon with the highest base speed"
   ]
  },
  {
   "cell_type": "code",
   "execution_count": 11,
   "metadata": {},
   "outputs": [
    {
     "name": "stdout",
     "output_type": "stream",
     "text": [
      "Pokemon with Highest Base Speeed is Deoxys\n"
     ]
    }
   ],
   "source": [
    "maxspd = pkmndf.name[pkmndf['speed'].idxmax()]\n",
    "print(\"Pokemon with Highest Base Speeed is {}\".format(maxspd))"
   ]
  },
  {
   "cell_type": "markdown",
   "metadata": {},
   "source": [
    "So apparently its deoxys"
   ]
  },
  {
   "cell_type": "code",
   "execution_count": null,
   "metadata": {},
   "outputs": [],
   "source": []
  }
 ],
 "metadata": {
  "_change_revision": 0,
  "_is_fork": false,
  "kernelspec": {
   "display_name": "Python 3",
   "language": "python",
   "name": "python3"
  },
  "language_info": {
   "codemirror_mode": {
    "name": "ipython",
    "version": 3
   },
   "file_extension": ".py",
   "mimetype": "text/x-python",
   "name": "python",
   "nbconvert_exporter": "python",
   "pygments_lexer": "ipython3",
   "version": "3.7.0"
  }
 },
 "nbformat": 4,
 "nbformat_minor": 1
}
